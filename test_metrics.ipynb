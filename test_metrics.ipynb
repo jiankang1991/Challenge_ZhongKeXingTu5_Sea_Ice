{
 "cells": [
  {
   "cell_type": "code",
   "execution_count": 2,
   "metadata": {},
   "outputs": [
    {
     "name": "stderr",
     "output_type": "stream",
     "text": [
      "/home/lisijiang/anaconda3/envs/hisup/lib/python3.7/site-packages/tqdm/auto.py:22: TqdmWarning: IProgress not found. Please update jupyter and ipywidgets. See https://ipywidgets.readthedocs.io/en/stable/user_install.html\n",
      "  from .autonotebook import tqdm as notebook_tqdm\n"
     ]
    }
   ],
   "source": [
    "import numpy as np\n",
    "import glob\n",
    "import os\n",
    "import cv2\n",
    "from PIL import Image\n",
    "from pprint import pprint\n",
    "from collections import defaultdict\n",
    "import pandas as pd\n",
    "import torch"
   ]
  },
  {
   "cell_type": "code",
   "execution_count": 1,
   "metadata": {},
   "outputs": [],
   "source": [
    "class Evaluator(object):\n",
    "    \"\"\"\n",
    "    https://github.com/jfzhang95/pytorch-deeplab-xception/blob/master/utils/metrics.py\n",
    "    \"\"\"\n",
    "    def __init__(self, num_class):\n",
    "        self.num_class = num_class\n",
    "        self.confusion_matrix = np.zeros((self.num_class,)*2)\n",
    "\n",
    "    def Pixel_Accuracy(self):\n",
    "        Acc = np.diag(self.confusion_matrix).sum() / self.confusion_matrix.sum()\n",
    "        return Acc\n",
    "\n",
    "    def Pixel_Accuracy_Class(self):\n",
    "        Acc = np.diag(self.confusion_matrix) / self.confusion_matrix.sum(axis=1)\n",
    "        Acc = np.nanmean(Acc)\n",
    "        return Acc\n",
    "\n",
    "    def Mean_Intersection_over_Union(self):\n",
    "        MIoU = np.diag(self.confusion_matrix) / (\n",
    "                    np.sum(self.confusion_matrix, axis=1) + np.sum(self.confusion_matrix, axis=0) -\n",
    "                    np.diag(self.confusion_matrix))\n",
    "        MIoU = np.nanmean(MIoU)\n",
    "        return MIoU\n",
    "\n",
    "    def Frequency_Weighted_Intersection_over_Union(self):\n",
    "        freq = np.sum(self.confusion_matrix, axis=1) / np.sum(self.confusion_matrix)\n",
    "        iu = np.diag(self.confusion_matrix) / (\n",
    "                    np.sum(self.confusion_matrix, axis=1) + np.sum(self.confusion_matrix, axis=0) -\n",
    "                    np.diag(self.confusion_matrix))\n",
    "\n",
    "        FWIoU = (freq[freq > 0] * iu[freq > 0]).sum()\n",
    "        return FWIoU, iu\n",
    "\n",
    "    def _generate_matrix(self, gt_image, pre_image):\n",
    "        mask = (gt_image >= 0) & (gt_image < self.num_class)\n",
    "        label = self.num_class * gt_image[mask].astype('int') + pre_image[mask]\n",
    "        count = np.bincount(label, minlength=self.num_class**2)\n",
    "        confusion_matrix = count.reshape(self.num_class, self.num_class)\n",
    "        return confusion_matrix\n",
    "\n",
    "    def add_batch(self, gt_image, pre_image):\n",
    "        assert gt_image.shape == pre_image.shape\n",
    "        self.confusion_matrix += self._generate_matrix(gt_image, pre_image)\n",
    "\n",
    "    def reset(self):\n",
    "        self.confusion_matrix = np.zeros((self.num_class,) * 2)\n",
    "\n",
    "def get_msk(msk_pth):\n",
    "    msk = np.asarray(Image.open(msk_pth)).copy()\n",
    "    msk[msk>0] = 1\n",
    "    return msk\n",
    "\n",
    "csv_pths = {\n",
    "    'val0': r'../data/val_0.csv',\n",
    "    'val1': r'../data/val_1.csv',\n",
    "    'val2': r'../data/val_2.csv'\n",
    "}\n"
   ]
  },
  {
   "cell_type": "code",
   "execution_count": 11,
   "metadata": {},
   "outputs": [],
   "source": [
    "gt_dir = r'/boot/data1/kang_data/zkxt21_seaice/trainData/gt'\n",
    "\n",
    "model_dict = {\n",
    "    'timm-tf_efficientnet_lite3val1': '../EffUNet/20230313_142125/output_path',\n",
    "}\n"
   ]
  },
  {
   "cell_type": "code",
   "execution_count": 12,
   "metadata": {},
   "outputs": [
    {
     "name": "stdout",
     "output_type": "stream",
     "text": [
      "timm-tf_efficientnet_lite3val1\n",
      "timm-tf_efficientnet_lite3val2\n",
      "defaultdict(None,\n",
      "            {'timm-tf_efficientnet_lite3val1': defaultdict(None,\n",
      "                                                           {'FwIoU': 0.9864927753876305,\n",
      "                                                            'IoUs': array([0.99229092, 0.94071814]),\n",
      "                                                            'OA': 0.9931311959703567}),\n",
      "             'timm-tf_efficientnet_lite3val2': defaultdict(None,\n",
      "                                                           {'FwIoU': 0.9857390663676159,\n",
      "                                                            'IoUs': array([0.99186587, 0.93736981]),\n",
      "                                                            'OA': 0.9927486551219019})})\n"
     ]
    }
   ],
   "source": [
    "results = defaultdict()\n",
    "evaluator = Evaluator(2)\n",
    "for method, pred_dir in model_dict.items():\n",
    "    evaluator.reset()\n",
    "    print(method)\n",
    "    results[method] = defaultdict()\n",
    "    pred_pths = glob.glob(os.path.join(pred_dir,'*.png'))\n",
    "    pred_nms = map(os.path.basename, pred_pths)\n",
    "    gt_pths = [os.path.join(gt_dir, pred_nm) for pred_nm in pred_nms]\n",
    "    for _ in map(lambda x: evaluator.add_batch(get_msk(x[0]), get_msk(x[1])), zip(gt_pths, pred_pths)):\n",
    "        pass\n",
    "\n",
    "    results[method]['FwIoU'], results[method]['IoUs'] = evaluator.Frequency_Weighted_Intersection_over_Union()\n",
    "    results[method]['OA'] = evaluator.Pixel_Accuracy()\n",
    "    \n",
    "pprint(results)"
   ]
  }
 ],
 "metadata": {
  "kernelspec": {
   "display_name": "zkxt",
   "language": "python",
   "name": "python3"
  },
  "language_info": {
   "codemirror_mode": {
    "name": "ipython",
    "version": 3
   },
   "file_extension": ".py",
   "mimetype": "text/x-python",
   "name": "python",
   "nbconvert_exporter": "python",
   "pygments_lexer": "ipython3",
   "version": "3.7.16"
  },
  "orig_nbformat": 4,
  "vscode": {
   "interpreter": {
    "hash": "dfe833e2d30b935ea1c9c188ec86c755ab1df63339992b2da32357721faf27c6"
   }
  }
 },
 "nbformat": 4,
 "nbformat_minor": 2
}
