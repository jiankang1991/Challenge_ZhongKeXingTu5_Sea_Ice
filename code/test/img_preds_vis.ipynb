{
 "cells": [
  {
   "cell_type": "code",
   "execution_count": 1,
   "metadata": {},
   "outputs": [
    {
     "name": "stderr",
     "output_type": "stream",
     "text": [
      "/home/lisijiang/anaconda3/envs/pytorch/lib/python3.8/site-packages/tqdm/auto.py:21: TqdmWarning: IProgress not found. Please update jupyter and ipywidgets. See https://ipywidgets.readthedocs.io/en/stable/user_install.html\n",
      "  from .autonotebook import tqdm as notebook_tqdm\n"
     ]
    }
   ],
   "source": [
    "import numpy as np\n",
    "import os\n",
    "import torch\n",
    "import cv2\n",
    "import pandas as pd\n",
    "from tqdm import tqdm\n",
    "from PIL import Image\n",
    "import matplotlib.pyplot as plt\n",
    "import  segmentation_models_pytorch  as smp\n",
    "%matplotlib inline"
   ]
  },
  {
   "cell_type": "markdown",
   "metadata": {},
   "source": [
    "定义路径和名称"
   ]
  },
  {
   "cell_type": "code",
   "execution_count": 18,
   "metadata": {},
   "outputs": [],
   "source": [
    "gt_nms = ['22.png', '182.png', '270.png', '203.png', '1254.png', '410.png']\n",
    "gt_dir = r'/boot/data1/kang_data/zkxt21_seaice/trainData/gt'\n",
    "src_dir = r'/boot/data1/kang_data/zkxt21_seaice/trainData/image'\n",
    "model_dict = {\n",
    "    'unet': '../submit/compared_methods/UNet/20240110_124331',\n",
    "    'pspnet': '../submit/compared_methods/pspnet/20240110_192717',\n",
    "    'fpn': '../submit/compared_methods/fpn/20240110_192850',\n",
    "    'linknet': '../submit/compared_methods/Linknet/20240110_124514',\n",
    "    'deeplabv3': '../submit/compared_methods/deeplabv3/20240110_125054',\n",
    "    'deeplabv3+': '../submit/compared_methods/deeplabv3+/20240110_125433',\n",
    "    'EffUNet_stage4': '../submit/EffUNet_stage4/20240109_194957'\n",
    "}\n",
    "### https://htmlcolorcodes.com/"
   ]
  },
  {
   "cell_type": "markdown",
   "metadata": {},
   "source": [
    "海冰图片"
   ]
  },
  {
   "cell_type": "code",
   "execution_count": 21,
   "metadata": {},
   "outputs": [
    {
     "name": "stdout",
     "output_type": "stream",
     "text": [
      "22.png\n",
      "182.png\n",
      "270.png\n",
      "203.png\n",
      "1254.png\n",
      "410.png\n"
     ]
    }
   ],
   "source": [
    "for gt_nm in gt_nms:\n",
    "    print(gt_nm)\n",
    "    src = Image.open(os.path.join(src_dir, gt_nm.split('.')[0]+'.tif')).convert('RGB')\n",
    "    src.save('/code/lisijiang/zkxt_src/submit/论文图片/模型预测/src/'+gt_nm)\n",
    "    "
   ]
  },
  {
   "cell_type": "markdown",
   "metadata": {},
   "source": [
    "gt"
   ]
  },
  {
   "cell_type": "code",
   "execution_count": null,
   "metadata": {},
   "outputs": [],
   "source": [
    "for gt_nm in gt_nms:\n",
    "    print(gt_nm)\n",
    "    src = Image.open(os.path.join(gt_dir, gt_nm))\n",
    "    src.save('/code/lisijiang/zkxt_src/submit/论文图片/模型预测/gt/'+gt_nm)\n",
    "    "
   ]
  },
  {
   "cell_type": "markdown",
   "metadata": {},
   "source": [
    "### UNet"
   ]
  },
  {
   "cell_type": "code",
   "execution_count": 4,
   "metadata": {},
   "outputs": [
    {
     "name": "stdout",
     "output_type": "stream",
     "text": [
      "22.png\n",
      "182.png\n",
      "270.png\n",
      "203.png\n",
      "1254.png\n",
      "410.png\n"
     ]
    }
   ],
   "source": [
    "for gt_nm in gt_nms:\n",
    "    print(gt_nm)\n",
    "    pred_msk = np.asarray(Image.open(os.path.join(model_dict['unet'], 'test_predict', gt_nm))).copy()\n",
    "    gt_msk = np.asarray(Image.open(os.path.join(gt_dir, gt_nm))).copy()\n",
    "\n",
    "    pred_msk[pred_msk>0] = 1\n",
    "    gt_msk[gt_msk>0] = 1\n",
    "\n",
    "    img_msk = np.zeros((512,512,3))\n",
    "    # assign true positive\n",
    "    img_msk[:, :, 0][np.logical_and(pred_msk == 1, gt_msk == 1)] = 208\n",
    "    img_msk[:, :, 1][np.logical_and(pred_msk == 1, gt_msk == 1)] = 211\n",
    "    img_msk[:, :, 2][np.logical_and(pred_msk == 1, gt_msk == 1)] = 212\n",
    "    # assign false positive\n",
    "    img_msk[:, :, 0][np.logical_and(pred_msk == 1, gt_msk == 0)] = 203\n",
    "    img_msk[:, :, 1][np.logical_and(pred_msk == 1, gt_msk == 0)] = 67\n",
    "    img_msk[:, :, 2][np.logical_and(pred_msk == 1, gt_msk == 0)] = 53\n",
    "    # assign false negative\n",
    "    img_msk[:, :, 0][np.logical_and(pred_msk == 0, gt_msk == 1)] = 46\n",
    "    img_msk[:, :, 1][np.logical_and(pred_msk == 0, gt_msk == 1)] = 134\n",
    "    img_msk[:, :, 2][np.logical_and(pred_msk == 0, gt_msk == 1)] = 193\n",
    "    # assign True negative\n",
    "    img_msk[:, :, 0][np.logical_and(pred_msk == 0, gt_msk == 0)] = 39\n",
    "    img_msk[:, :, 1][np.logical_and(pred_msk == 0, gt_msk == 0)] = 55\n",
    "    img_msk[:, :, 2][np.logical_and(pred_msk == 0, gt_msk == 0)] = 70\n",
    "\n",
    "    # gt_nm_wo_ext = gt_nm.split('.')[0]\n",
    "    # print(img_msk.shape)\n",
    "    Image.fromarray(img_msk.astype(np.uint8)).save(f'/code/lisijiang/zkxt_src/submit/论文图片/模型预测/unet/{gt_nm}')\n"
   ]
  },
  {
   "cell_type": "markdown",
   "metadata": {},
   "source": [
    "### PSPNet"
   ]
  },
  {
   "cell_type": "code",
   "execution_count": 5,
   "metadata": {},
   "outputs": [
    {
     "name": "stdout",
     "output_type": "stream",
     "text": [
      "22.png\n",
      "182.png\n",
      "270.png\n",
      "203.png\n",
      "1254.png\n",
      "410.png\n"
     ]
    }
   ],
   "source": [
    "for gt_nm in gt_nms:\n",
    "    print(gt_nm)\n",
    "    pred_msk = np.asarray(Image.open(os.path.join(model_dict['pspnet'], 'test_predict', gt_nm))).copy()\n",
    "    gt_msk = np.asarray(Image.open(os.path.join(gt_dir, gt_nm))).copy()\n",
    "\n",
    "    pred_msk[pred_msk>0] = 1\n",
    "    gt_msk[gt_msk>0] = 1\n",
    "\n",
    "    img_msk = np.zeros((512,512,3))\n",
    "    # assign true positive\n",
    "    img_msk[:, :, 0][np.logical_and(pred_msk == 1, gt_msk == 1)] = 208\n",
    "    img_msk[:, :, 1][np.logical_and(pred_msk == 1, gt_msk == 1)] = 211\n",
    "    img_msk[:, :, 2][np.logical_and(pred_msk == 1, gt_msk == 1)] = 212\n",
    "    # assign false positive\n",
    "    img_msk[:, :, 0][np.logical_and(pred_msk == 1, gt_msk == 0)] = 203\n",
    "    img_msk[:, :, 1][np.logical_and(pred_msk == 1, gt_msk == 0)] = 67\n",
    "    img_msk[:, :, 2][np.logical_and(pred_msk == 1, gt_msk == 0)] = 53\n",
    "    # assign false negative\n",
    "    img_msk[:, :, 0][np.logical_and(pred_msk == 0, gt_msk == 1)] = 46\n",
    "    img_msk[:, :, 1][np.logical_and(pred_msk == 0, gt_msk == 1)] = 134\n",
    "    img_msk[:, :, 2][np.logical_and(pred_msk == 0, gt_msk == 1)] = 193\n",
    "    # assign True negative\n",
    "    img_msk[:, :, 0][np.logical_and(pred_msk == 0, gt_msk == 0)] = 39\n",
    "    img_msk[:, :, 1][np.logical_and(pred_msk == 0, gt_msk == 0)] = 55\n",
    "    img_msk[:, :, 2][np.logical_and(pred_msk == 0, gt_msk == 0)] = 70\n",
    "\n",
    "    # gt_nm_wo_ext = gt_nm.split('.')[0]\n",
    "    # print(img_msk.shape)\n",
    "    Image.fromarray(img_msk.astype(np.uint8)).save(f'/code/lisijiang/zkxt_src/submit/论文图片/模型预测/pspnet/{gt_nm}')"
   ]
  },
  {
   "cell_type": "markdown",
   "metadata": {},
   "source": [
    "### FPN"
   ]
  },
  {
   "cell_type": "code",
   "execution_count": 6,
   "metadata": {},
   "outputs": [
    {
     "name": "stdout",
     "output_type": "stream",
     "text": [
      "22.png\n",
      "182.png\n",
      "270.png\n",
      "203.png\n",
      "1254.png\n",
      "410.png\n"
     ]
    }
   ],
   "source": [
    "for gt_nm in gt_nms:\n",
    "    print(gt_nm)\n",
    "    pred_msk = np.asarray(Image.open(os.path.join(model_dict['fpn'], 'test_predict', gt_nm))).copy()\n",
    "    gt_msk = np.asarray(Image.open(os.path.join(gt_dir, gt_nm))).copy()\n",
    "\n",
    "    pred_msk[pred_msk>0] = 1\n",
    "    gt_msk[gt_msk>0] = 1\n",
    "\n",
    "    img_msk = np.zeros((512,512,3))\n",
    "    # assign true positive\n",
    "    img_msk[:, :, 0][np.logical_and(pred_msk == 1, gt_msk == 1)] = 208\n",
    "    img_msk[:, :, 1][np.logical_and(pred_msk == 1, gt_msk == 1)] = 211\n",
    "    img_msk[:, :, 2][np.logical_and(pred_msk == 1, gt_msk == 1)] = 212\n",
    "    # assign false positive\n",
    "    img_msk[:, :, 0][np.logical_and(pred_msk == 1, gt_msk == 0)] = 203\n",
    "    img_msk[:, :, 1][np.logical_and(pred_msk == 1, gt_msk == 0)] = 67\n",
    "    img_msk[:, :, 2][np.logical_and(pred_msk == 1, gt_msk == 0)] = 53\n",
    "    # assign false negative\n",
    "    img_msk[:, :, 0][np.logical_and(pred_msk == 0, gt_msk == 1)] = 46\n",
    "    img_msk[:, :, 1][np.logical_and(pred_msk == 0, gt_msk == 1)] = 134\n",
    "    img_msk[:, :, 2][np.logical_and(pred_msk == 0, gt_msk == 1)] = 193\n",
    "    # assign True negative\n",
    "    img_msk[:, :, 0][np.logical_and(pred_msk == 0, gt_msk == 0)] = 39\n",
    "    img_msk[:, :, 1][np.logical_and(pred_msk == 0, gt_msk == 0)] = 55\n",
    "    img_msk[:, :, 2][np.logical_and(pred_msk == 0, gt_msk == 0)] = 70\n",
    "\n",
    "    # gt_nm_wo_ext = gt_nm.split('.')[0]\n",
    "    # print(img_msk.shape)\n",
    "    Image.fromarray(img_msk.astype(np.uint8)).save(f'/code/lisijiang/zkxt_src/submit/论文图片/模型预测/fpn/{gt_nm}')"
   ]
  },
  {
   "cell_type": "markdown",
   "metadata": {},
   "source": [
    "Linknet"
   ]
  },
  {
   "cell_type": "code",
   "execution_count": 7,
   "metadata": {},
   "outputs": [
    {
     "name": "stdout",
     "output_type": "stream",
     "text": [
      "22.png\n",
      "182.png\n",
      "270.png\n",
      "203.png\n",
      "1254.png\n",
      "410.png\n"
     ]
    }
   ],
   "source": [
    "for gt_nm in gt_nms:\n",
    "    print(gt_nm)\n",
    "    pred_msk = np.asarray(Image.open(os.path.join(model_dict['linknet'], 'test_predict', gt_nm))).copy()\n",
    "    gt_msk = np.asarray(Image.open(os.path.join(gt_dir, gt_nm))).copy()\n",
    "\n",
    "    pred_msk[pred_msk>0] = 1\n",
    "    gt_msk[gt_msk>0] = 1\n",
    "\n",
    "    img_msk = np.zeros((512,512,3))\n",
    "    # assign true positive\n",
    "    img_msk[:, :, 0][np.logical_and(pred_msk == 1, gt_msk == 1)] = 208\n",
    "    img_msk[:, :, 1][np.logical_and(pred_msk == 1, gt_msk == 1)] = 211\n",
    "    img_msk[:, :, 2][np.logical_and(pred_msk == 1, gt_msk == 1)] = 212\n",
    "    # assign false positive\n",
    "    img_msk[:, :, 0][np.logical_and(pred_msk == 1, gt_msk == 0)] = 203\n",
    "    img_msk[:, :, 1][np.logical_and(pred_msk == 1, gt_msk == 0)] = 67\n",
    "    img_msk[:, :, 2][np.logical_and(pred_msk == 1, gt_msk == 0)] = 53\n",
    "    # assign false negative\n",
    "    img_msk[:, :, 0][np.logical_and(pred_msk == 0, gt_msk == 1)] = 46\n",
    "    img_msk[:, :, 1][np.logical_and(pred_msk == 0, gt_msk == 1)] = 134\n",
    "    img_msk[:, :, 2][np.logical_and(pred_msk == 0, gt_msk == 1)] = 193\n",
    "    # assign True negative\n",
    "    img_msk[:, :, 0][np.logical_and(pred_msk == 0, gt_msk == 0)] = 39\n",
    "    img_msk[:, :, 1][np.logical_and(pred_msk == 0, gt_msk == 0)] = 55\n",
    "    img_msk[:, :, 2][np.logical_and(pred_msk == 0, gt_msk == 0)] = 70\n",
    "\n",
    "    # gt_nm_wo_ext = gt_nm.split('.')[0]\n",
    "    # print(img_msk.shape)\n",
    "    Image.fromarray(img_msk.astype(np.uint8)).save(f'/code/lisijiang/zkxt_src/submit/论文图片/模型预测/linknet/{gt_nm}')"
   ]
  },
  {
   "cell_type": "markdown",
   "metadata": {},
   "source": [
    "Deeplabv3"
   ]
  },
  {
   "cell_type": "code",
   "execution_count": 8,
   "metadata": {},
   "outputs": [
    {
     "name": "stdout",
     "output_type": "stream",
     "text": [
      "22.png\n",
      "182.png\n",
      "270.png\n",
      "203.png\n",
      "1254.png\n",
      "410.png\n"
     ]
    }
   ],
   "source": [
    "for gt_nm in gt_nms:\n",
    "    print(gt_nm)\n",
    "    pred_msk = np.asarray(Image.open(os.path.join(model_dict['deeplabv3'], 'test_predict', gt_nm))).copy()\n",
    "    gt_msk = np.asarray(Image.open(os.path.join(gt_dir, gt_nm))).copy()\n",
    "\n",
    "    pred_msk[pred_msk>0] = 1\n",
    "    gt_msk[gt_msk>0] = 1\n",
    "\n",
    "    img_msk = np.zeros((512,512,3))\n",
    "    # assign true positive\n",
    "    img_msk[:, :, 0][np.logical_and(pred_msk == 1, gt_msk == 1)] = 208\n",
    "    img_msk[:, :, 1][np.logical_and(pred_msk == 1, gt_msk == 1)] = 211\n",
    "    img_msk[:, :, 2][np.logical_and(pred_msk == 1, gt_msk == 1)] = 212\n",
    "    # assign false positive\n",
    "    img_msk[:, :, 0][np.logical_and(pred_msk == 1, gt_msk == 0)] = 203\n",
    "    img_msk[:, :, 1][np.logical_and(pred_msk == 1, gt_msk == 0)] = 67\n",
    "    img_msk[:, :, 2][np.logical_and(pred_msk == 1, gt_msk == 0)] = 53\n",
    "    # assign false negative\n",
    "    img_msk[:, :, 0][np.logical_and(pred_msk == 0, gt_msk == 1)] = 46\n",
    "    img_msk[:, :, 1][np.logical_and(pred_msk == 0, gt_msk == 1)] = 134\n",
    "    img_msk[:, :, 2][np.logical_and(pred_msk == 0, gt_msk == 1)] = 193\n",
    "    # assign True negative\n",
    "    img_msk[:, :, 0][np.logical_and(pred_msk == 0, gt_msk == 0)] = 39\n",
    "    img_msk[:, :, 1][np.logical_and(pred_msk == 0, gt_msk == 0)] = 55\n",
    "    img_msk[:, :, 2][np.logical_and(pred_msk == 0, gt_msk == 0)] = 70\n",
    "\n",
    "    # gt_nm_wo_ext = gt_nm.split('.')[0]\n",
    "    # print(img_msk.shape)\n",
    "    Image.fromarray(img_msk.astype(np.uint8)).save(f'/code/lisijiang/zkxt_src/submit/论文图片/模型预测/deeplabv3/{gt_nm}')"
   ]
  },
  {
   "cell_type": "markdown",
   "metadata": {
    "notebookRunGroups": {
     "groupValue": "2"
    }
   },
   "source": [
    "Deeplabv3+"
   ]
  },
  {
   "cell_type": "code",
   "execution_count": 9,
   "metadata": {},
   "outputs": [
    {
     "name": "stdout",
     "output_type": "stream",
     "text": [
      "22.png\n",
      "182.png\n",
      "270.png\n",
      "203.png\n",
      "1254.png\n",
      "410.png\n"
     ]
    }
   ],
   "source": [
    "for gt_nm in gt_nms:\n",
    "    print(gt_nm)\n",
    "    pred_msk = np.asarray(Image.open(os.path.join(model_dict['deeplabv3+'], 'test_predict', gt_nm))).copy()\n",
    "    gt_msk = np.asarray(Image.open(os.path.join(gt_dir, gt_nm))).copy()\n",
    "\n",
    "    pred_msk[pred_msk>0] = 1\n",
    "    gt_msk[gt_msk>0] = 1\n",
    "\n",
    "    img_msk = np.zeros((512,512,3))\n",
    "    # assign true positive\n",
    "    img_msk[:, :, 0][np.logical_and(pred_msk == 1, gt_msk == 1)] = 208\n",
    "    img_msk[:, :, 1][np.logical_and(pred_msk == 1, gt_msk == 1)] = 211\n",
    "    img_msk[:, :, 2][np.logical_and(pred_msk == 1, gt_msk == 1)] = 212\n",
    "    # assign false positive\n",
    "    img_msk[:, :, 0][np.logical_and(pred_msk == 1, gt_msk == 0)] = 203\n",
    "    img_msk[:, :, 1][np.logical_and(pred_msk == 1, gt_msk == 0)] = 67\n",
    "    img_msk[:, :, 2][np.logical_and(pred_msk == 1, gt_msk == 0)] = 53\n",
    "    # assign false negative\n",
    "    img_msk[:, :, 0][np.logical_and(pred_msk == 0, gt_msk == 1)] = 46\n",
    "    img_msk[:, :, 1][np.logical_and(pred_msk == 0, gt_msk == 1)] = 134\n",
    "    img_msk[:, :, 2][np.logical_and(pred_msk == 0, gt_msk == 1)] = 193\n",
    "    # assign True negative\n",
    "    img_msk[:, :, 0][np.logical_and(pred_msk == 0, gt_msk == 0)] = 39\n",
    "    img_msk[:, :, 1][np.logical_and(pred_msk == 0, gt_msk == 0)] = 55\n",
    "    img_msk[:, :, 2][np.logical_and(pred_msk == 0, gt_msk == 0)] = 70\n",
    "\n",
    "    # gt_nm_wo_ext = gt_nm.split('.')[0]\n",
    "    # print(img_msk.shape)\n",
    "    Image.fromarray(img_msk.astype(np.uint8)).save(f'/code/lisijiang/zkxt_src/submit/论文图片/模型预测/deeplabv3+/{gt_nm}')"
   ]
  },
  {
   "cell_type": "markdown",
   "metadata": {},
   "source": [
    "EffUNet_stage4"
   ]
  },
  {
   "cell_type": "code",
   "execution_count": 12,
   "metadata": {},
   "outputs": [
    {
     "name": "stdout",
     "output_type": "stream",
     "text": [
      "22.png\n",
      "182.png\n",
      "270.png\n",
      "203.png\n",
      "1254.png\n",
      "410.png\n"
     ]
    }
   ],
   "source": [
    "for gt_nm in gt_nms:\n",
    "    print(gt_nm)\n",
    "    pred_msk = np.asarray(Image.open(os.path.join(model_dict['EffUNet_stage4'], 'test_predict', gt_nm))).copy()\n",
    "    gt_msk = np.asarray(Image.open(os.path.join(gt_dir, gt_nm))).copy()\n",
    "\n",
    "    pred_msk[pred_msk>0] = 1\n",
    "    gt_msk[gt_msk>0] = 1\n",
    "\n",
    "    img_msk = np.zeros((512,512,3))\n",
    "    # assign true positive\n",
    "    img_msk[:, :, 0][np.logical_and(pred_msk == 1, gt_msk == 1)] = 208\n",
    "    img_msk[:, :, 1][np.logical_and(pred_msk == 1, gt_msk == 1)] = 211\n",
    "    img_msk[:, :, 2][np.logical_and(pred_msk == 1, gt_msk == 1)] = 212\n",
    "    # assign false positive\n",
    "    img_msk[:, :, 0][np.logical_and(pred_msk == 1, gt_msk == 0)] = 203\n",
    "    img_msk[:, :, 1][np.logical_and(pred_msk == 1, gt_msk == 0)] = 67\n",
    "    img_msk[:, :, 2][np.logical_and(pred_msk == 1, gt_msk == 0)] = 53\n",
    "    # assign false negative\n",
    "    img_msk[:, :, 0][np.logical_and(pred_msk == 0, gt_msk == 1)] = 46\n",
    "    img_msk[:, :, 1][np.logical_and(pred_msk == 0, gt_msk == 1)] = 134\n",
    "    img_msk[:, :, 2][np.logical_and(pred_msk == 0, gt_msk == 1)] = 193\n",
    "    # assign True negative\n",
    "    img_msk[:, :, 0][np.logical_and(pred_msk == 0, gt_msk == 0)] = 39\n",
    "    img_msk[:, :, 1][np.logical_and(pred_msk == 0, gt_msk == 0)] = 55\n",
    "    img_msk[:, :, 2][np.logical_and(pred_msk == 0, gt_msk == 0)] = 70\n",
    "\n",
    "    # gt_nm_wo_ext = gt_nm.split('.')[0]\n",
    "    # print(img_msk.shape)\n",
    "    Image.fromarray(img_msk.astype(np.uint8)).save(f'/code/lisijiang/zkxt_src/submit/论文图片/模型预测/EffUNet_stage4/{gt_nm}')"
   ]
  }
 ],
 "metadata": {
  "interpreter": {
   "hash": "84b50b7aebe4068d76bb9b4efdc785e28af74f2ec4d48063ce492b90bf3a0574"
  },
  "kernelspec": {
   "display_name": "Python 3.8.5 64-bit ('base': conda)",
   "language": "python",
   "name": "python3"
  },
  "language_info": {
   "codemirror_mode": {
    "name": "ipython",
    "version": 3
   },
   "file_extension": ".py",
   "mimetype": "text/x-python",
   "name": "python",
   "nbconvert_exporter": "python",
   "pygments_lexer": "ipython3",
   "version": "3.8.18"
  },
  "orig_nbformat": 4
 },
 "nbformat": 4,
 "nbformat_minor": 2
}
