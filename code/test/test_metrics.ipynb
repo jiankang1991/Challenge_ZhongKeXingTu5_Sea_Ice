{
 "cells": [
  {
   "cell_type": "code",
   "execution_count": 2,
   "metadata": {},
   "outputs": [],
   "source": [
    "import numpy as np\n",
    "import glob\n",
    "import os\n",
    "from PIL import Image\n",
    "from pprint import pprint\n",
    "from collections import defaultdict\n",
    "import pandas as pd\n",
    "import albumentations as A\n",
    "import torch\n",
    "import cv2"
   ]
  },
  {
   "cell_type": "code",
   "execution_count": 3,
   "metadata": {},
   "outputs": [],
   "source": [
    "class Evaluator(object):\n",
    "    \"\"\"\n",
    "    https://github.com/jfzhang95/pytorch-deeplab-xception/blob/master/utils/metrics.py\n",
    "    \"\"\"\n",
    "    def __init__(self, num_class):\n",
    "        self.num_class = num_class\n",
    "        self.confusion_matrix = np.zeros((self.num_class,)*2)\n",
    "\n",
    "    def Pixel_Accuracy(self):\n",
    "        Acc = np.diag(self.confusion_matrix).sum() / self.confusion_matrix.sum()\n",
    "        return Acc\n",
    "\n",
    "    def Pixel_Accuracy_Class(self):\n",
    "        Acc = np.diag(self.confusion_matrix) / self.confusion_matrix.sum(axis=1)\n",
    "        Acc = np.nanmean(Acc)\n",
    "        return Acc\n",
    "\n",
    "    def Mean_Intersection_over_Union(self):\n",
    "        MIoU = np.diag(self.confusion_matrix) / (\n",
    "                    np.sum(self.confusion_matrix, axis=1) + np.sum(self.confusion_matrix, axis=0) -\n",
    "                    np.diag(self.confusion_matrix))\n",
    "        MIoU = np.nanmean(MIoU)\n",
    "        return MIoU\n",
    "\n",
    "    def Frequency_Weighted_Intersection_over_Union(self):\n",
    "        freq = np.sum(self.confusion_matrix, axis=1) / np.sum(self.confusion_matrix)\n",
    "        iu = np.diag(self.confusion_matrix) / (\n",
    "                    np.sum(self.confusion_matrix, axis=1) + np.sum(self.confusion_matrix, axis=0) -\n",
    "                    np.diag(self.confusion_matrix))\n",
    "\n",
    "        FWIoU = (freq[freq > 0] * iu[freq > 0]).sum()\n",
    "        return FWIoU, iu\n",
    "\n",
    "    def _generate_matrix(self, gt_image, pre_image):\n",
    "        mask = (gt_image >= 0) & (gt_image < self.num_class)\n",
    "        label = self.num_class * gt_image[mask].astype('int') + pre_image[mask]\n",
    "        count = np.bincount(label, minlength=self.num_class**2)\n",
    "        confusion_matrix = count.reshape(self.num_class, self.num_class)\n",
    "        return confusion_matrix\n",
    "\n",
    "    def add_batch(self, gt_image, pre_image):\n",
    "        assert gt_image.shape == pre_image.shape\n",
    "        self.confusion_matrix += self._generate_matrix(gt_image, pre_image)\n",
    "\n",
    "    def reset(self):\n",
    "        self.confusion_matrix = np.zeros((self.num_class,) * 2)\n",
    "\n",
    "def get_msk(msk_pth):\n",
    "    msk = np.asarray(Image.open(msk_pth)).copy()\n",
    "    msk[msk>0] = 1\n",
    "    return msk\n",
    "\n",
    "csv_pths = {\n",
    "    'val0': r'../data/val_0.csv',\n",
    "    'val1': r'../data/val_1.csv',\n",
    "    'val2': r'../data/val_2.csv'\n",
    "}\n"
   ]
  },
  {
   "cell_type": "code",
   "execution_count": 9,
   "metadata": {},
   "outputs": [],
   "source": [
    "val = 'val0'\n",
    "gt_dir = r'/boot/data1/kang_data/zkxt21_seaice/trainData/gt'\n",
    "# csv_gt_nms = pd.read_csv(val)['label'].tolist()\n",
    "# gt_pths = list(map(lambda x: os.path.join(gt_dir, x), csv_gt_nms))\n",
    "\n",
    "model_dict = {\n",
    "    'EffUNet_stage4_v0': '../submit/EffUNet_stage4/20240109_194957',\n",
    "    'EffUNet_stage4_v1': '../submit/EffUNet_stage4/20240115_220855',\n",
    "    'EffUNet_stage4_v2': '../submit/EffUNet_stage4/20240109_195120',\n",
    "    'EffUNet_stage5_v0': '../submit/EffUNet_stage5/20240118_182135',\n",
    "    'EffUNet_stage5_v1': '../submit/EffUNet_stage5/20240118_182149',\n",
    "    'EffUNet_stage5_v2': '../submit/EffUNet_stage5/20240118_182155',\n",
    "    # 'EffUNet_stage4+ce+Dice+BD_v0': '../submit/EffUNet_stage4+ce+Dice+BD/20240118_202638',\n",
    "    # 'EffUNet_stage4+ce+Dice+BD_v1': '../submit/EffUNet_stage4+ce+Dice+BD/20240118_202648',\n",
    "    # 'EffUNet_stage4+ce+Dice+BD_v2': '../submit/EffUNet_stage4+ce+Dice+BD/20240118_202656',\n",
    "    # 'EffUNet_stage4_deepsupversion_v0': '../submit/EffUNet_stage4_deepsupversion/20240112_154225',\n",
    "    # 'EffUNet_stage4_deepsupversion_v1': '../submit/EffUNet_stage4_deepsupversion/20240112_154241',\n",
    "    # 'EffUNet_stage4_deepsupversion_v2': '../submit/EffUNet_stage4_deepsupversion/20240112_154252',\n",
    "    # 'EffUNet_stage4_WS_v0': '../submit/EffUNet_stage4_WS/20240116_153211',\n",
    "    # 'EffUNet_stage4_WS_v1': '../submit/EffUNet_stage4_WS/20240116_153219',\n",
    "    # 'EffUNet_stage4_WS_v2': '../submit/EffUNet_stage4_WS/20240116_153224',\n",
    "    # 'EffUNet_stage4+ce_v0': '../submit/EffUNet_stage4+ce/20240115_094933',\n",
    "    # 'EffUNet_stage4+ce_v1': '../submit/EffUNet_stage4+ce/20240116_153005',\n",
    "    # 'EffUNet_stage4+ce_v2': '../submit/EffUNet_stage4+ce/20240116_153022',\n",
    "    # 'EffUNet_stage4+ce+boundary_v0': '../submit/EffUNet_stage4+ce+boundary/20240112_101312',\n",
    "    # 'EffUNet_stage4+ce+boundary_v1': '../submit/EffUNet_stage4+ce+boundary/20240112_101423',\n",
    "    # 'EffUNet_stage4+ce+boundary_v2': '../submit/EffUNet_stage4+ce+boundary/20240112_101504',\n",
    "    # 'EffUNet_stage4+ce+cls-dice_v0': '../submit/EffUNet_stage4+ce+cls-dice/20240117_095806',\n",
    "    # 'EffUNet_stage4+ce+cls-dice_v1': '../submit/EffUNet_stage4+ce+cls-dice/20240116_183245',\n",
    "    # 'EffUNet_stage4+ce+cls-dice_v2': '../submit/EffUNet_stage4+ce+cls-dice/20240116_183251',\n",
    "    # 'UNet_v0': '../submit/UNet/20240110_124331',\n",
    "    # 'UNet_v1': '../submit/UNet/20240110_124414',\n",
    "    # 'UNet_v2': '../submit/UNet/20240110_124427',\n",
    "    # 'pspnet_v0': '../submit/pspnet/20240110_192717',\n",
    "    # 'pspnet_v1': '../submit/pspnet/20240110_192751',\n",
    "    # 'pspnet_v2': '../submit/pspnet/20240110_192804',\n",
    "    # 'Linknet_v0': '../submit/Linknet/20240110_124514',\n",
    "    # 'Linknet_v1': '../submit/Linknet/20240110_124522',\n",
    "    # 'Linknet_v2': '../submit/Linknet/20240110_124547',\n",
    "    # 'fpn_v0': '../submit/fpn/20240110_192850',\n",
    "    # 'fpn_v1': '../submit/fpn/20240110_192913',\n",
    "    # 'fpn_v2': '../submit/fpn/20240110_192936',\n",
    "    # 'deeplabv3_v0': '../submit/deeplabv3/20240110_125054',\n",
    "    # 'deeplabv3_v1': '../submit/deeplabv3/20240110_125135',\n",
    "    # 'deeplabv3_v2': '../submit/deeplabv3/20240110_125146',\n",
    "    # 'deeplabv3+_v0': '../submit/deeplabv3+/20240110_125433',\n",
    "    # 'deeplabv3+_v1': '../submit/deeplabv3+/20240110_125505',\n",
    "    # 'deeplabv3+_v2': '../submit/deeplabv3+/20240110_125517',\n",
    "}\n"
   ]
  },
  {
   "cell_type": "code",
   "execution_count": 10,
   "metadata": {},
   "outputs": [
    {
     "name": "stdout",
     "output_type": "stream",
     "text": [
      "EffUNet_stage4_v0\n",
      "EffUNet_stage4_v1\n",
      "EffUNet_stage4_v2\n",
      "EffUNet_stage5_v0\n",
      "EffUNet_stage5_v1\n",
      "EffUNet_stage5_v2\n",
      "defaultdict(None,\n",
      "            {'EffUNet_stage4_v0': defaultdict(None,\n",
      "                                              {'FwIoU': 98.51314966937313,\n",
      "                                               'IoUs': 99.15114209133907,\n",
      "                                               'OA': 99.24319412907944}),\n",
      "             'EffUNet_stage4_v1': defaultdict(None,\n",
      "                                              {'FwIoU': 98.50468724082937,\n",
      "                                               'IoUs': 99.17164420405243,\n",
      "                                               'OA': 99.23704719543457}),\n",
      "             'EffUNet_stage4_v2': defaultdict(None,\n",
      "                                              {'FwIoU': 98.86676078651458,\n",
      "                                               'IoUs': 99.34860363596844,\n",
      "                                               'OA': 99.4249496459961}),\n",
      "             'EffUNet_stage5_v0': defaultdict(None,\n",
      "                                              {'FwIoU': 98.47003923553173,\n",
      "                                               'IoUs': 99.12520295516869,\n",
      "                                               'OA': 99.22134590148926}),\n",
      "             'EffUNet_stage5_v1': defaultdict(None,\n",
      "                                              {'FwIoU': 98.36350236290882,\n",
      "                                               'IoUs': 99.09204557506968,\n",
      "                                               'OA': 99.16334533691406}),\n",
      "             'EffUNet_stage5_v2': defaultdict(None,\n",
      "                                              {'FwIoU': 98.7859245664501,\n",
      "                                               'IoUs': 99.30146062749215,\n",
      "                                               'OA': 99.38322448730469})})\n"
     ]
    }
   ],
   "source": [
    "results = defaultdict()\n",
    "evaluator = Evaluator(2)\n",
    "\n",
    "for method, pred_dir in model_dict.items():\n",
    "    evaluator.reset()\n",
    "    print(method)\n",
    "    results[method] = defaultdict()\n",
    "    pred_pths = glob.glob(os.path.join(pred_dir, 'test_predict', '*.png'))\n",
    "    pred_nms = map(os.path.basename, pred_pths)\n",
    "    gt_pths = [os.path.join(gt_dir, pred_nm) for pred_nm in pred_nms]\n",
    "    for _ in map(lambda x: evaluator.add_batch(get_msk(x[0]), get_msk(x[1])), zip(gt_pths, pred_pths)):\n",
    "        pass\n",
    "\n",
    "    results[method]['FwIoU'], results[method]['IoUs'] = evaluator.Frequency_Weighted_Intersection_over_Union()\n",
    "    results[method]['OA'] = evaluator.Pixel_Accuracy()\n",
    "    \n",
    "    results[method]['FwIoU'] = results[method]['FwIoU']*100\n",
    "    results[method]['IoUs'] = results[method]['IoUs'][0]*100\n",
    "    results[method]['OA'] = results[method]['OA']*100\n",
    "pprint(results)"
   ]
  },
  {
   "cell_type": "markdown",
   "metadata": {},
   "source": [
    "UNet"
   ]
  },
  {
   "cell_type": "code",
   "execution_count": 10,
   "metadata": {},
   "outputs": [
    {
     "name": "stdout",
     "output_type": "stream",
     "text": [
      "defaultdict(None,\n",
      "            {'UNet': defaultdict(None,\n",
      "                                 {'FwIoU': 98.30736227129074,\n",
      "                                  'IoUs': 99.04099769131265,\n",
      "                                  'OA': 99.1359151204427}),\n",
      "             'UNet_std': defaultdict(None,\n",
      "                                     {'FwIoU': 0.23948698368356863,\n",
      "                                      'IoUs': 0.12020955942171486,\n",
      "                                      'OA': 0.12393343850150013})})\n"
     ]
    }
   ],
   "source": [
    "results_mean = defaultdict()\n",
    "results_mean['UNet'] = defaultdict()\n",
    "results_mean['UNet_std'] = defaultdict()\n",
    "results_mean['UNet']['FwIoU'] = np.mean([results['UNet_v0']['FwIoU'], results['UNet_v1']['FwIoU'], results['UNet_v2']['FwIoU']])\n",
    "results_mean['UNet']['IoUs'] = np.mean([results['UNet_v0']['IoUs'], results['UNet_v1']['IoUs'], results['UNet_v2']['IoUs']])\n",
    "results_mean['UNet']['OA'] = np.mean([results['UNet_v0']['OA'], results['UNet_v1']['OA'], results['UNet_v2']['OA']])\n",
    "\n",
    "results_mean['UNet_std']['FwIoU'] = np.std([results['UNet_v0']['FwIoU'], results['UNet_v1']['FwIoU'], results['UNet_v2']['FwIoU']])\n",
    "results_mean['UNet_std']['IoUs'] = np.std([results['UNet_v0']['IoUs'], results['UNet_v1']['IoUs'], results['UNet_v2']['IoUs']])\n",
    "results_mean['UNet_std']['OA'] = np.std([results['UNet_v0']['OA'], results['UNet_v1']['OA'], results['UNet_v2']['OA']])\n",
    "\n",
    "pprint(results_mean)"
   ]
  },
  {
   "cell_type": "markdown",
   "metadata": {},
   "source": [
    "PSPnet"
   ]
  },
  {
   "cell_type": "code",
   "execution_count": 11,
   "metadata": {},
   "outputs": [
    {
     "name": "stdout",
     "output_type": "stream",
     "text": [
      "defaultdict(None,\n",
      "            {'pspnet': defaultdict(None,\n",
      "                                   {'FwIoU': 97.64017555911126,\n",
      "                                    'IoUs': 98.63911705504573,\n",
      "                                    'OA': 98.77610079447429}),\n",
      "             'pspnet_std': defaultdict(None,\n",
      "                                       {'FwIoU': 0.22167427345983545,\n",
      "                                        'IoUs': 0.1264901547102529,\n",
      "                                        'OA': 0.11812241817014042})})\n"
     ]
    }
   ],
   "source": [
    "results_mean = defaultdict()\n",
    "results_mean['pspnet'] = defaultdict()\n",
    "results_mean['pspnet_std'] = defaultdict()\n",
    "results_mean['pspnet']['FwIoU'] = np.mean([results['pspnet_v0']['FwIoU'], results['pspnet_v1']['FwIoU'], results['pspnet_v2']['FwIoU']])\n",
    "results_mean['pspnet']['IoUs'] = np.mean([results['pspnet_v0']['IoUs'], results['pspnet_v1']['IoUs'], results['pspnet_v2']['IoUs']])\n",
    "results_mean['pspnet']['OA'] = np.mean([results['pspnet_v0']['OA'], results['pspnet_v1']['OA'], results['pspnet_v2']['OA']])\n",
    "\n",
    "results_mean['pspnet_std']['FwIoU'] = np.std([results['pspnet_v0']['FwIoU'], results['pspnet_v1']['FwIoU'], results['pspnet_v2']['FwIoU']])\n",
    "results_mean['pspnet_std']['IoUs'] = np.std([results['pspnet_v0']['IoUs'], results['pspnet_v1']['IoUs'], results['pspnet_v2']['IoUs']])\n",
    "results_mean['pspnet_std']['OA'] = np.std([results['pspnet_v0']['OA'], results['pspnet_v1']['OA'], results['pspnet_v2']['OA']])\n",
    "\n",
    "pprint(results_mean)"
   ]
  },
  {
   "cell_type": "markdown",
   "metadata": {},
   "source": [
    "Linknet"
   ]
  },
  {
   "cell_type": "code",
   "execution_count": 13,
   "metadata": {},
   "outputs": [
    {
     "name": "stdout",
     "output_type": "stream",
     "text": [
      "defaultdict(None,\n",
      "            {'Linknet': defaultdict(None,\n",
      "                                    {'FwIoU': 97.92983560872214,\n",
      "                                     'IoUs': 98.82823497552249,\n",
      "                                     'OA': 98.94251950581868}),\n",
      "             'Linknet_std': defaultdict(None,\n",
      "                                        {'FwIoU': 0.23152258969594763,\n",
      "                                         'IoUs': 0.10845293047641726,\n",
      "                                         'OA': 0.1181137637451888})})\n"
     ]
    }
   ],
   "source": [
    "results_mean = defaultdict()\n",
    "results_mean['Linknet'] = defaultdict()\n",
    "results_mean['Linknet_std'] = defaultdict()\n",
    "results_mean['Linknet']['FwIoU'] = np.mean([results['Linknet_v0']['FwIoU'], results['Linknet_v1']['FwIoU'], results['Linknet_v2']['FwIoU']])\n",
    "results_mean['Linknet']['IoUs'] = np.mean([results['Linknet_v0']['IoUs'], results['Linknet_v1']['IoUs'], results['Linknet_v2']['IoUs']])\n",
    "results_mean['Linknet']['OA'] = np.mean([results['Linknet_v0']['OA'], results['Linknet_v1']['OA'], results['Linknet_v2']['OA']])\n",
    "\n",
    "results_mean['Linknet_std']['FwIoU'] = np.std([results['Linknet_v0']['FwIoU'], results['Linknet_v1']['FwIoU'], results['Linknet_v2']['FwIoU']])\n",
    "results_mean['Linknet_std']['IoUs'] = np.std([results['Linknet_v0']['IoUs'], results['Linknet_v1']['IoUs'], results['Linknet_v2']['IoUs']])\n",
    "results_mean['Linknet_std']['OA'] = np.std([results['Linknet_v0']['OA'], results['Linknet_v1']['OA'], results['Linknet_v2']['OA']])\n",
    "\n",
    "pprint(results_mean)"
   ]
  },
  {
   "cell_type": "markdown",
   "metadata": {},
   "source": [
    "FPN"
   ]
  },
  {
   "cell_type": "code",
   "execution_count": 14,
   "metadata": {},
   "outputs": [
    {
     "name": "stdout",
     "output_type": "stream",
     "text": [
      "defaultdict(None,\n",
      "            {'fpn': defaultdict(None,\n",
      "                                {'FwIoU': 97.90400455819388,\n",
      "                                 'IoUs': 98.80249155897404,\n",
      "                                 'OA': 98.92112414042155}),\n",
      "             'fpn_std': defaultdict(None,\n",
      "                                    {'FwIoU': 0.3191313502374523,\n",
      "                                     'IoUs': 0.1744660754827764,\n",
      "                                     'OA': 0.1681175746616953})})\n"
     ]
    }
   ],
   "source": [
    "results_mean = defaultdict()\n",
    "results_mean['fpn'] = defaultdict()\n",
    "results_mean['fpn_std'] = defaultdict()\n",
    "results_mean['fpn']['FwIoU'] = np.mean([results['fpn_v0']['FwIoU'], results['fpn_v1']['FwIoU'], results['fpn_v2']['FwIoU']])\n",
    "results_mean['fpn']['IoUs'] = np.mean([results['fpn_v0']['IoUs'], results['fpn_v1']['IoUs'], results['fpn_v2']['IoUs']])\n",
    "results_mean['fpn']['OA'] = np.mean([results['fpn_v0']['OA'], results['fpn_v1']['OA'], results['fpn_v2']['OA']])\n",
    "\n",
    "results_mean['fpn_std']['FwIoU'] = np.std([results['fpn_v0']['FwIoU'], results['fpn_v1']['FwIoU'], results['fpn_v2']['FwIoU']])\n",
    "results_mean['fpn_std']['IoUs'] = np.std([results['fpn_v0']['IoUs'], results['fpn_v1']['IoUs'], results['fpn_v2']['IoUs']])\n",
    "results_mean['fpn_std']['OA'] = np.std([results['fpn_v0']['OA'], results['fpn_v1']['OA'], results['fpn_v2']['OA']])\n",
    "\n",
    "pprint(results_mean)"
   ]
  },
  {
   "cell_type": "markdown",
   "metadata": {},
   "source": [
    "Deeplabv3"
   ]
  },
  {
   "cell_type": "code",
   "execution_count": 15,
   "metadata": {},
   "outputs": [
    {
     "name": "stdout",
     "output_type": "stream",
     "text": [
      "defaultdict(None,\n",
      "            {'deeplabv3': defaultdict(None,\n",
      "                                      {'FwIoU': 97.64147805590007,\n",
      "                                       'IoUs': 98.64448564167897,\n",
      "                                       'OA': 98.77965990702312}),\n",
      "             'deeplabv3_std': defaultdict(None,\n",
      "                                          {'FwIoU': 0.14310394423943726,\n",
      "                                           'IoUs': 0.06089735003408994,\n",
      "                                           'OA': 0.07657296787873133})})\n"
     ]
    }
   ],
   "source": [
    "results_mean = defaultdict()\n",
    "results_mean['deeplabv3'] = defaultdict()\n",
    "results_mean['deeplabv3_std'] = defaultdict()\n",
    "results_mean['deeplabv3']['FwIoU'] = np.mean([results['deeplabv3_v0']['FwIoU'], results['deeplabv3_v1']['FwIoU'], results['deeplabv3_v2']['FwIoU']])\n",
    "results_mean['deeplabv3']['IoUs'] = np.mean([results['deeplabv3_v0']['IoUs'], results['deeplabv3_v1']['IoUs'], results['deeplabv3_v2']['IoUs']])\n",
    "results_mean['deeplabv3']['OA'] = np.mean([results['deeplabv3_v0']['OA'], results['deeplabv3_v1']['OA'], results['deeplabv3_v2']['OA']])\n",
    "\n",
    "results_mean['deeplabv3_std']['FwIoU'] = np.std([results['deeplabv3_v0']['FwIoU'], results['deeplabv3_v1']['FwIoU'], results['deeplabv3_v2']['FwIoU']])\n",
    "results_mean['deeplabv3_std']['IoUs'] = np.std([results['deeplabv3_v0']['IoUs'], results['deeplabv3_v1']['IoUs'], results['deeplabv3_v2']['IoUs']])\n",
    "results_mean['deeplabv3_std']['OA'] = np.std([results['deeplabv3_v0']['OA'], results['deeplabv3_v1']['OA'], results['deeplabv3_v2']['OA']])\n",
    "\n",
    "pprint(results_mean)"
   ]
  },
  {
   "cell_type": "markdown",
   "metadata": {},
   "source": [
    "Deeplabv3+"
   ]
  },
  {
   "cell_type": "code",
   "execution_count": 16,
   "metadata": {},
   "outputs": [
    {
     "name": "stdout",
     "output_type": "stream",
     "text": [
      "defaultdict(None,\n",
      "            {'deeplabv3+': defaultdict(None,\n",
      "                                       {'FwIoU': 97.80694300545083,\n",
      "                                        'IoUs': 98.74568310677496,\n",
      "                                        'OA': 98.87060801188152}),\n",
      "             'deeplabv3+_std': defaultdict(None,\n",
      "                                           {'FwIoU': 0.14130105905871165,\n",
      "                                            'IoUs': 0.07075735483999772,\n",
      "                                            'OA': 0.0761164693720606})})\n"
     ]
    }
   ],
   "source": [
    "results_mean = defaultdict()\n",
    "results_mean['deeplabv3+'] = defaultdict()\n",
    "results_mean['deeplabv3+_std'] = defaultdict()\n",
    "results_mean['deeplabv3+']['FwIoU'] = np.mean([results['deeplabv3+_v0']['FwIoU'], results['deeplabv3+_v1']['FwIoU'], results['deeplabv3+_v2']['FwIoU']])\n",
    "results_mean['deeplabv3+']['IoUs'] = np.mean([results['deeplabv3+_v0']['IoUs'], results['deeplabv3+_v1']['IoUs'], results['deeplabv3+_v2']['IoUs']])\n",
    "results_mean['deeplabv3+']['OA'] = np.mean([results['deeplabv3+_v0']['OA'], results['deeplabv3+_v1']['OA'], results['deeplabv3+_v2']['OA']])\n",
    "\n",
    "results_mean['deeplabv3+_std']['FwIoU'] = np.std([results['deeplabv3+_v0']['FwIoU'], results['deeplabv3+_v1']['FwIoU'], results['deeplabv3+_v2']['FwIoU']])\n",
    "results_mean['deeplabv3+_std']['IoUs'] = np.std([results['deeplabv3+_v0']['IoUs'], results['deeplabv3+_v1']['IoUs'], results['deeplabv3+_v2']['IoUs']])\n",
    "results_mean['deeplabv3+_std']['OA'] = np.std([results['deeplabv3+_v0']['OA'], results['deeplabv3+_v1']['OA'], results['deeplabv3+_v2']['OA']])\n",
    "\n",
    "pprint(results_mean)"
   ]
  },
  {
   "cell_type": "markdown",
   "metadata": {},
   "source": [
    "EffUNet_stage4"
   ]
  },
  {
   "cell_type": "code",
   "execution_count": 8,
   "metadata": {},
   "outputs": [
    {
     "name": "stdout",
     "output_type": "stream",
     "text": [
      "defaultdict(None,\n",
      "            {'EffUNet_stage4': defaultdict(None,\n",
      "                                           {'FwIoU': 98.62819923223903,\n",
      "                                            'IoUs': 99.22379664378666,\n",
      "                                            'OA': 99.30173032350336}),\n",
      "             'EffUNet_stage4_std': defaultdict(None,\n",
      "                                               {'FwIoU': 0.16872386623906888,\n",
      "                                                'IoUs': 0.08864789198293961,\n",
      "                                                'OA': 0.08716534967131259})})\n"
     ]
    }
   ],
   "source": [
    "results_mean = defaultdict()\n",
    "results_mean['EffUNet_stage4'] = defaultdict()\n",
    "results_mean['EffUNet_stage4_std'] = defaultdict()\n",
    "results_mean['EffUNet_stage4']['FwIoU'] = np.mean([results['EffUNet_stage4_v0']['FwIoU'], results['EffUNet_stage4_v1']['FwIoU'], results['EffUNet_stage4_v2']['FwIoU']])\n",
    "results_mean['EffUNet_stage4']['IoUs'] = np.mean([results['EffUNet_stage4_v0']['IoUs'], results['EffUNet_stage4_v1']['IoUs'], results['EffUNet_stage4_v2']['IoUs']])\n",
    "results_mean['EffUNet_stage4']['OA'] = np.mean([results['EffUNet_stage4_v0']['OA'], results['EffUNet_stage4_v1']['OA'], results['EffUNet_stage4_v2']['OA']])\n",
    "\n",
    "results_mean['EffUNet_stage4_std']['FwIoU'] = np.std([results['EffUNet_stage4_v0']['FwIoU'], results['EffUNet_stage4_v1']['FwIoU'], results['EffUNet_stage4_v2']['FwIoU']])\n",
    "results_mean['EffUNet_stage4_std']['IoUs'] = np.std([results['EffUNet_stage4_v0']['IoUs'], results['EffUNet_stage4_v1']['IoUs'], results['EffUNet_stage4_v2']['IoUs']])\n",
    "results_mean['EffUNet_stage4_std']['OA'] = np.std([results['EffUNet_stage4_v0']['OA'], results['EffUNet_stage4_v1']['OA'], results['EffUNet_stage4_v2']['OA']])\n",
    "\n",
    "pprint(results_mean)"
   ]
  },
  {
   "cell_type": "markdown",
   "metadata": {},
   "source": [
    "EffUNet_stage5"
   ]
  },
  {
   "cell_type": "code",
   "execution_count": 11,
   "metadata": {},
   "outputs": [
    {
     "name": "stdout",
     "output_type": "stream",
     "text": [
      "defaultdict(None,\n",
      "            {'EffUNet_stage5': defaultdict(None,\n",
      "                                           {'FwIoU': 98.53982205496355,\n",
      "                                            'IoUs': 99.17290305257683,\n",
      "                                            'OA': 99.25597190856934}),\n",
      "             'EffUNet_stage5_std': defaultdict(None,\n",
      "                                               {'FwIoU': 0.17937365270492397,\n",
      "                                                'IoUs': 0.09190625845514834,\n",
      "                                                'OA': 0.09304454298473747})})\n"
     ]
    }
   ],
   "source": [
    "results_mean = defaultdict()\n",
    "results_mean['EffUNet_stage5'] = defaultdict()\n",
    "results_mean['EffUNet_stage5_std'] = defaultdict()\n",
    "results_mean['EffUNet_stage5']['FwIoU'] = np.mean([results['EffUNet_stage5_v0']['FwIoU'], results['EffUNet_stage5_v1']['FwIoU'], results['EffUNet_stage5_v2']['FwIoU']])\n",
    "results_mean['EffUNet_stage5']['IoUs'] = np.mean([results['EffUNet_stage5_v0']['IoUs'], results['EffUNet_stage5_v1']['IoUs'], results['EffUNet_stage5_v2']['IoUs']])\n",
    "results_mean['EffUNet_stage5']['OA'] = np.mean([results['EffUNet_stage5_v0']['OA'], results['EffUNet_stage5_v1']['OA'], results['EffUNet_stage5_v2']['OA']])\n",
    "\n",
    "results_mean['EffUNet_stage5_std']['FwIoU'] = np.std([results['EffUNet_stage5_v0']['FwIoU'], results['EffUNet_stage5_v1']['FwIoU'], results['EffUNet_stage5_v2']['FwIoU']])\n",
    "results_mean['EffUNet_stage5_std']['IoUs'] = np.std([results['EffUNet_stage5_v0']['IoUs'], results['EffUNet_stage5_v1']['IoUs'], results['EffUNet_stage5_v2']['IoUs']])\n",
    "results_mean['EffUNet_stage5_std']['OA'] = np.std([results['EffUNet_stage5_v0']['OA'], results['EffUNet_stage5_v1']['OA'], results['EffUNet_stage5_v2']['OA']])\n",
    "\n",
    "pprint(results_mean)"
   ]
  },
  {
   "cell_type": "markdown",
   "metadata": {},
   "source": [
    "EffUNet_stage4+ce+Dice+BD"
   ]
  },
  {
   "cell_type": "code",
   "execution_count": 8,
   "metadata": {},
   "outputs": [
    {
     "name": "stdout",
     "output_type": "stream",
     "text": [
      "defaultdict(None,\n",
      "            {'EffUNet_stage4+ce+Dice+BD': defaultdict(None,\n",
      "                                                      {'FwIoU': 98.50617697021694,\n",
      "                                                       'IoUs': 99.15417296450379,\n",
      "                                                       'OA': 99.23891003926595}),\n",
      "             'EffUNet_stage4+ce+Dice+BD_std': defaultdict(None,\n",
      "                                                          {'FwIoU': 0.20603376369164889,\n",
      "                                                           'IoUs': 0.10821956343323594,\n",
      "                                                           'OA': 0.1064926552001793})})\n"
     ]
    }
   ],
   "source": [
    "results_mean = defaultdict()\n",
    "results_mean['EffUNet_stage4+ce+Dice+BD'] = defaultdict()\n",
    "results_mean['EffUNet_stage4+ce+Dice+BD_std'] = defaultdict()\n",
    "results_mean['EffUNet_stage4+ce+Dice+BD']['FwIoU'] = np.mean([results['EffUNet_stage4+ce+Dice+BD_v0']['FwIoU'], results['EffUNet_stage4+ce+Dice+BD_v1']['FwIoU'], results['EffUNet_stage4+ce+Dice+BD_v2']['FwIoU']])\n",
    "results_mean['EffUNet_stage4+ce+Dice+BD']['IoUs'] = np.mean([results['EffUNet_stage4+ce+Dice+BD_v0']['IoUs'], results['EffUNet_stage4+ce+Dice+BD_v1']['IoUs'], results['EffUNet_stage4+ce+Dice+BD_v2']['IoUs']])\n",
    "results_mean['EffUNet_stage4+ce+Dice+BD']['OA'] = np.mean([results['EffUNet_stage4+ce+Dice+BD_v0']['OA'], results['EffUNet_stage4+ce+Dice+BD_v1']['OA'], results['EffUNet_stage4+ce+Dice+BD_v2']['OA']])\n",
    "\n",
    "results_mean['EffUNet_stage4+ce+Dice+BD_std']['FwIoU'] = np.std([results['EffUNet_stage4+ce+Dice+BD_v0']['FwIoU'], results['EffUNet_stage4+ce+Dice+BD_v1']['FwIoU'], results['EffUNet_stage4+ce+Dice+BD_v2']['FwIoU']])\n",
    "results_mean['EffUNet_stage4+ce+Dice+BD_std']['IoUs'] = np.std([results['EffUNet_stage4+ce+Dice+BD_v0']['IoUs'], results['EffUNet_stage4+ce+Dice+BD_v1']['IoUs'], results['EffUNet_stage4+ce+Dice+BD_v2']['IoUs']])\n",
    "results_mean['EffUNet_stage4+ce+Dice+BD_std']['OA'] = np.std([results['EffUNet_stage4+ce+Dice+BD_v0']['OA'], results['EffUNet_stage4+ce+Dice+BD_v1']['OA'], results['EffUNet_stage4+ce+Dice+BD_v2']['OA']])\n",
    "\n",
    "pprint(results_mean)"
   ]
  },
  {
   "cell_type": "markdown",
   "metadata": {},
   "source": [
    "EffUNet_stage4_WS"
   ]
  },
  {
   "cell_type": "code",
   "execution_count": 13,
   "metadata": {},
   "outputs": [
    {
     "name": "stdout",
     "output_type": "stream",
     "text": [
      "defaultdict(None,\n",
      "            {'EffUNet_stage4_WS': defaultdict(None,\n",
      "                                              {'FwIoU': 98.52659453906642,\n",
      "                                               'IoUs': 99.16104924529436,\n",
      "                                               'OA': 99.24648666381836}),\n",
      "             'EffUNet_stage4_WS_std': defaultdict(None,\n",
      "                                                  {'FwIoU': 0.18588921519949667,\n",
      "                                                   'IoUs': 0.10238281703656259,\n",
      "                                                   'OA': 0.09678915549542857})})\n"
     ]
    }
   ],
   "source": [
    "results_mean = defaultdict()\n",
    "results_mean['EffUNet_stage4_WS'] = defaultdict()\n",
    "results_mean['EffUNet_stage4_WS_std'] = defaultdict()\n",
    "results_mean['EffUNet_stage4_WS']['FwIoU'] = np.mean([results['EffUNet_stage4_WS_v0']['FwIoU'], results['EffUNet_stage4_WS_v1']['FwIoU'], results['EffUNet_stage4_WS_v2']['FwIoU']])\n",
    "results_mean['EffUNet_stage4_WS']['IoUs'] = np.mean([results['EffUNet_stage4_WS_v0']['IoUs'], results['EffUNet_stage4_WS_v1']['IoUs'], results['EffUNet_stage4_WS_v2']['IoUs']])\n",
    "results_mean['EffUNet_stage4_WS']['OA'] = np.mean([results['EffUNet_stage4_WS_v0']['OA'], results['EffUNet_stage4_WS_v1']['OA'], results['EffUNet_stage4_WS_v2']['OA']])\n",
    "\n",
    "results_mean['EffUNet_stage4_WS_std']['FwIoU'] = np.std([results['EffUNet_stage4_WS_v0']['FwIoU'], results['EffUNet_stage4_WS_v1']['FwIoU'], results['EffUNet_stage4_WS_v2']['FwIoU']])\n",
    "results_mean['EffUNet_stage4_WS_std']['IoUs'] = np.std([results['EffUNet_stage4_WS_v0']['IoUs'], results['EffUNet_stage4_WS_v1']['IoUs'], results['EffUNet_stage4_WS_v2']['IoUs']])\n",
    "results_mean['EffUNet_stage4_WS_std']['OA'] = np.std([results['EffUNet_stage4_WS_v0']['OA'], results['EffUNet_stage4_WS_v1']['OA'], results['EffUNet_stage4_WS_v2']['OA']])\n",
    "\n",
    "pprint(results_mean)"
   ]
  },
  {
   "cell_type": "markdown",
   "metadata": {},
   "source": [
    "EffUNet_stage4_deepsupversion"
   ]
  },
  {
   "cell_type": "code",
   "execution_count": 37,
   "metadata": {},
   "outputs": [
    {
     "name": "stdout",
     "output_type": "stream",
     "text": [
      "defaultdict(None,\n",
      "            {'EffUNet_stage4_deepsupversion': defaultdict(None,\n",
      "                                                          {'FwIoU': 98.58055786917144,\n",
      "                                                           'IoUs': 99.1955375621428,\n",
      "                                                           'OA': 99.27668317159016}),\n",
      "             'EffUNet_stage4_deepsupversion_std': defaultdict(None,\n",
      "                                                              {'FwIoU': 0.1914958295212156,\n",
      "                                                               'IoUs': 0.1024807097787672,\n",
      "                                                               'OA': 0.09910256507092348})})\n"
     ]
    }
   ],
   "source": [
    "results_mean = defaultdict()\n",
    "results_mean['EffUNet_stage4_deepsupversion'] = defaultdict()\n",
    "results_mean['EffUNet_stage4_deepsupversion_std'] = defaultdict()\n",
    "results_mean['EffUNet_stage4_deepsupversion']['FwIoU'] = np.mean([results['EffUNet_stage4_deepsupversion_v0']['FwIoU'], results['EffUNet_stage4_deepsupversion_v1']['FwIoU'], results['EffUNet_stage4_deepsupversion_v2']['FwIoU']])\n",
    "results_mean['EffUNet_stage4_deepsupversion']['IoUs'] = np.mean([results['EffUNet_stage4_deepsupversion_v0']['IoUs'], results['EffUNet_stage4_deepsupversion_v1']['IoUs'], results['EffUNet_stage4_deepsupversion_v2']['IoUs']])\n",
    "results_mean['EffUNet_stage4_deepsupversion']['OA'] = np.mean([results['EffUNet_stage4_deepsupversion_v0']['OA'], results['EffUNet_stage4_deepsupversion_v1']['OA'], results['EffUNet_stage4_deepsupversion_v2']['OA']])\n",
    "\n",
    "results_mean['EffUNet_stage4_deepsupversion_std']['FwIoU'] = np.std([results['EffUNet_stage4_deepsupversion_v0']['FwIoU'], results['EffUNet_stage4_deepsupversion_v1']['FwIoU'], results['EffUNet_stage4_deepsupversion_v2']['FwIoU']])\n",
    "results_mean['EffUNet_stage4_deepsupversion_std']['IoUs'] = np.std([results['EffUNet_stage4_deepsupversion_v0']['IoUs'], results['EffUNet_stage4_deepsupversion_v1']['IoUs'], results['EffUNet_stage4_deepsupversion_v2']['IoUs']])\n",
    "results_mean['EffUNet_stage4_deepsupversion_std']['OA'] = np.std([results['EffUNet_stage4_deepsupversion_v0']['OA'], results['EffUNet_stage4_deepsupversion_v1']['OA'], results['EffUNet_stage4_deepsupversion_v2']['OA']])\n",
    "\n",
    "pprint(results_mean)"
   ]
  },
  {
   "cell_type": "markdown",
   "metadata": {},
   "source": [
    "EffUNet_stage4+ce"
   ]
  },
  {
   "cell_type": "code",
   "execution_count": 8,
   "metadata": {},
   "outputs": [
    {
     "name": "stdout",
     "output_type": "stream",
     "text": [
      "defaultdict(None,\n",
      "            {'EffUNet_stage4+ce': defaultdict(None,\n",
      "                                              {'FwIoU': 98.55124335598519,\n",
      "                                               'IoUs': 99.17908402803657,\n",
      "                                               'OA': 99.26179313659668}),\n",
      "             'EffUNet_stage4+ce_std': defaultdict(None,\n",
      "                                                  {'FwIoU': 0.19467928378020713,\n",
      "                                                   'IoUs': 0.10367117980742635,\n",
      "                                                   'OA': 0.10042573623861893})})\n"
     ]
    }
   ],
   "source": [
    "results_mean = defaultdict()\n",
    "results_mean['EffUNet_stage4+ce'] = defaultdict()\n",
    "results_mean['EffUNet_stage4+ce_std'] = defaultdict()\n",
    "results_mean['EffUNet_stage4+ce']['FwIoU'] = np.mean([results['EffUNet_stage4+ce_v0']['FwIoU'], results['EffUNet_stage4+ce_v1']['FwIoU'], results['EffUNet_stage4+ce_v2']['FwIoU']])\n",
    "results_mean['EffUNet_stage4+ce']['IoUs'] = np.mean([results['EffUNet_stage4+ce_v0']['IoUs'], results['EffUNet_stage4+ce_v1']['IoUs'], results['EffUNet_stage4+ce_v2']['IoUs']])\n",
    "results_mean['EffUNet_stage4+ce']['OA'] = np.mean([results['EffUNet_stage4+ce_v0']['OA'], results['EffUNet_stage4+ce_v1']['OA'], results['EffUNet_stage4+ce_v2']['OA']])\n",
    "\n",
    "results_mean['EffUNet_stage4+ce_std']['FwIoU'] = np.std([results['EffUNet_stage4+ce_v0']['FwIoU'], results['EffUNet_stage4+ce_v1']['FwIoU'], results['EffUNet_stage4+ce_v2']['FwIoU']])\n",
    "results_mean['EffUNet_stage4+ce_std']['IoUs'] = np.std([results['EffUNet_stage4+ce_v0']['IoUs'], results['EffUNet_stage4+ce_v1']['IoUs'], results['EffUNet_stage4+ce_v2']['IoUs']])\n",
    "results_mean['EffUNet_stage4+ce_std']['OA'] = np.std([results['EffUNet_stage4+ce_v0']['OA'], results['EffUNet_stage4+ce_v1']['OA'], results['EffUNet_stage4+ce_v2']['OA']])\n",
    "\n",
    "pprint(results_mean)"
   ]
  },
  {
   "cell_type": "markdown",
   "metadata": {},
   "source": [
    "EffUNet_stage4+ce+boundary"
   ]
  },
  {
   "cell_type": "code",
   "execution_count": 25,
   "metadata": {},
   "outputs": [
    {
     "name": "stdout",
     "output_type": "stream",
     "text": [
      "defaultdict(None,\n",
      "            {'EffUNet_stage4+ce+boundary': defaultdict(None,\n",
      "                                                       {'FwIoU': 98.58781629956472,\n",
      "                                                        'IoUs': 99.20020389083476,\n",
      "                                                        'OA': 99.28083992004395}),\n",
      "             'EffUNet_stage4+ce+boundary_std': defaultdict(None,\n",
      "                                                           {'FwIoU': 0.18164812314853634,\n",
      "                                                            'IoUs': 0.09662826974973131,\n",
      "                                                            'OA': 0.09405595451922118})})\n"
     ]
    }
   ],
   "source": [
    "results_mean = defaultdict()\n",
    "results_mean['EffUNet_stage4+ce+boundary'] = defaultdict()\n",
    "results_mean['EffUNet_stage4+ce+boundary_std'] = defaultdict()\n",
    "results_mean['EffUNet_stage4+ce+boundary']['FwIoU'] = np.mean([results['EffUNet_stage4+ce+boundary_v0']['FwIoU'], results['EffUNet_stage4+ce+boundary_v1']['FwIoU'], results['EffUNet_stage4+ce+boundary_v2']['FwIoU']])\n",
    "results_mean['EffUNet_stage4+ce+boundary']['IoUs'] = np.mean([results['EffUNet_stage4+ce+boundary_v0']['IoUs'], results['EffUNet_stage4+ce+boundary_v1']['IoUs'], results['EffUNet_stage4+ce+boundary_v2']['IoUs']])\n",
    "results_mean['EffUNet_stage4+ce+boundary']['OA'] = np.mean([results['EffUNet_stage4+ce+boundary_v0']['OA'], results['EffUNet_stage4+ce+boundary_v1']['OA'], results['EffUNet_stage4+ce+boundary_v2']['OA']])\n",
    "\n",
    "results_mean['EffUNet_stage4+ce+boundary_std']['FwIoU'] = np.std([results['EffUNet_stage4+ce+boundary_v0']['FwIoU'], results['EffUNet_stage4+ce+boundary_v1']['FwIoU'], results['EffUNet_stage4+ce+boundary_v2']['FwIoU']])\n",
    "results_mean['EffUNet_stage4+ce+boundary_std']['IoUs'] = np.std([results['EffUNet_stage4+ce+boundary_v0']['IoUs'], results['EffUNet_stage4+ce+boundary_v1']['IoUs'], results['EffUNet_stage4+ce+boundary_v2']['IoUs']])\n",
    "results_mean['EffUNet_stage4+ce+boundary_std']['OA'] = np.std([results['EffUNet_stage4+ce+boundary_v0']['OA'], results['EffUNet_stage4+ce+boundary_v1']['OA'], results['EffUNet_stage4+ce+boundary_v2']['OA']])\n",
    "\n",
    "pprint(results_mean)"
   ]
  },
  {
   "cell_type": "markdown",
   "metadata": {},
   "source": [
    "EffUNet_stage4+ce+cls-dice"
   ]
  },
  {
   "cell_type": "code",
   "execution_count": 7,
   "metadata": {},
   "outputs": [
    {
     "name": "stdout",
     "output_type": "stream",
     "text": [
      "defaultdict(None,\n",
      "            {'EffUNet_stage4+ce+cls-dice': defaultdict(None,\n",
      "                                                       {'FwIoU': 98.57515759713898,\n",
      "                                                        'IoUs': 99.19209015719377,\n",
      "                                                        'OA': 99.27373631795247}),\n",
      "             'EffUNet_stage4+ce+cls-dice_std': defaultdict(None,\n",
      "                                                           {'FwIoU': 0.16230160310225092,\n",
      "                                                            'IoUs': 0.0852153001022707,\n",
      "                                                            'OA': 0.08446306117084498})})\n"
     ]
    }
   ],
   "source": [
    "results_mean = defaultdict()\n",
    "results_mean['EffUNet_stage4+ce+cls-dice'] = defaultdict()\n",
    "results_mean['EffUNet_stage4+ce+cls-dice_std'] = defaultdict()\n",
    "results_mean['EffUNet_stage4+ce+cls-dice']['FwIoU'] = np.mean([results['EffUNet_stage4+ce+cls-dice_v0']['FwIoU'], results['EffUNet_stage4+ce+cls-dice_v1']['FwIoU'], results['EffUNet_stage4+ce+cls-dice_v2']['FwIoU']])\n",
    "results_mean['EffUNet_stage4+ce+cls-dice']['IoUs'] = np.mean([results['EffUNet_stage4+ce+cls-dice_v0']['IoUs'], results['EffUNet_stage4+ce+cls-dice_v1']['IoUs'], results['EffUNet_stage4+ce+cls-dice_v2']['IoUs']])\n",
    "results_mean['EffUNet_stage4+ce+cls-dice']['OA'] = np.mean([results['EffUNet_stage4+ce+cls-dice_v0']['OA'], results['EffUNet_stage4+ce+cls-dice_v1']['OA'], results['EffUNet_stage4+ce+cls-dice_v2']['OA']])\n",
    "\n",
    "results_mean['EffUNet_stage4+ce+cls-dice_std']['FwIoU'] = np.std([results['EffUNet_stage4+ce+cls-dice_v0']['FwIoU'], results['EffUNet_stage4+ce+cls-dice_v1']['FwIoU'], results['EffUNet_stage4+ce+cls-dice_v2']['FwIoU']])\n",
    "results_mean['EffUNet_stage4+ce+cls-dice_std']['IoUs'] = np.std([results['EffUNet_stage4+ce+cls-dice_v0']['IoUs'], results['EffUNet_stage4+ce+cls-dice_v1']['IoUs'], results['EffUNet_stage4+ce+cls-dice_v2']['IoUs']])\n",
    "results_mean['EffUNet_stage4+ce+cls-dice_std']['OA'] = np.std([results['EffUNet_stage4+ce+cls-dice_v0']['OA'], results['EffUNet_stage4+ce+cls-dice_v1']['OA'], results['EffUNet_stage4+ce+cls-dice_v2']['OA']])\n",
    "\n",
    "pprint(results_mean)"
   ]
  }
 ],
 "metadata": {
  "interpreter": {
   "hash": "1ca97ad6a50ec16a56b151a190ee508d4631b2b246dc82952e58648433fd502b"
  },
  "kernelspec": {
   "display_name": "Python 3.8.5 ('base')",
   "language": "python",
   "name": "python3"
  },
  "language_info": {
   "codemirror_mode": {
    "name": "ipython",
    "version": 3
   },
   "file_extension": ".py",
   "mimetype": "text/x-python",
   "name": "python",
   "nbconvert_exporter": "python",
   "pygments_lexer": "ipython3",
   "version": "3.8.18"
  },
  "orig_nbformat": 4
 },
 "nbformat": 4,
 "nbformat_minor": 2
}
